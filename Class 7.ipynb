{
 "cells": [
  {
   "cell_type": "markdown",
   "id": "5f2786ce",
   "metadata": {},
   "source": [
    "# Wordnet"
   ]
  },
  {
   "cell_type": "markdown",
   "id": "896b7ea3",
   "metadata": {},
   "source": [
    "### Sysnet is a collection of synonyms\n",
    "### Sysnet has three parts i.e. lemma, part of speech tag, sense number."
   ]
  },
  {
   "cell_type": "code",
   "execution_count": 2,
   "id": "2f09f1c9",
   "metadata": {},
   "outputs": [],
   "source": [
    "from nltk.corpus import wordnet"
   ]
  },
  {
   "cell_type": "code",
   "execution_count": 31,
   "id": "c95c0287",
   "metadata": {},
   "outputs": [],
   "source": [
    "syns = wordnet.synsets(\"spring\")"
   ]
  },
  {
   "cell_type": "code",
   "execution_count": 32,
   "id": "51e42ad8",
   "metadata": {},
   "outputs": [
    {
     "name": "stdout",
     "output_type": "stream",
     "text": [
      "syns : [Synset('spring.n.01'), Synset('spring.n.02'), Synset('spring.n.03'), Synset('spring.n.04'), Synset('give.n.01'), Synset('leap.n.01'), Synset('jump.v.01'), Synset('form.v.03'), Synset('bounce.v.01'), Synset('spring.v.04'), Synset('spring.v.05')]\n"
     ]
    }
   ],
   "source": [
    "print('syns :', syns)"
   ]
  },
  {
   "cell_type": "code",
   "execution_count": 33,
   "id": "955cdf45",
   "metadata": {},
   "outputs": [
    {
     "data": {
      "text/plain": [
       "11"
      ]
     },
     "execution_count": 33,
     "metadata": {},
     "output_type": "execute_result"
    }
   ],
   "source": [
    "len(syns)"
   ]
  },
  {
   "cell_type": "code",
   "execution_count": 34,
   "id": "372d92d6",
   "metadata": {},
   "outputs": [
    {
     "name": "stdout",
     "output_type": "stream",
     "text": [
      "spring.n.01\n"
     ]
    }
   ],
   "source": [
    "print(syns[0].name())"
   ]
  },
  {
   "cell_type": "code",
   "execution_count": 35,
   "id": "9943984c",
   "metadata": {},
   "outputs": [
    {
     "name": "stdout",
     "output_type": "stream",
     "text": [
      "spring\n"
     ]
    }
   ],
   "source": [
    "print(syns[0].lemmas()[0].name())"
   ]
  },
  {
   "cell_type": "code",
   "execution_count": 36,
   "id": "ed705e64",
   "metadata": {},
   "outputs": [
    {
     "name": "stdout",
     "output_type": "stream",
     "text": [
      "Definition of the word :  the season of growth\n"
     ]
    }
   ],
   "source": [
    "print(\"Definition of the word : \", syns[0].definition())"
   ]
  },
  {
   "cell_type": "code",
   "execution_count": 37,
   "id": "e63dcb11",
   "metadata": {},
   "outputs": [
    {
     "name": "stdout",
     "output_type": "stream",
     "text": [
      "Example of the word in use in sentences: ['the emerging buds were a sure sign of spring', 'he will hold office until the spring of next year']\n"
     ]
    }
   ],
   "source": [
    "print(\"Example of the word in use in sentences:\", syns[0].examples())"
   ]
  },
  {
   "cell_type": "code",
   "execution_count": 49,
   "id": "06636a69",
   "metadata": {},
   "outputs": [
    {
     "name": "stdout",
     "output_type": "stream",
     "text": [
      "0.9\n"
     ]
    }
   ],
   "source": [
    "w1 = wordnet.synset('kathmandu.n.01')\n",
    "w2 = wordnet.synset('city.n.01')\n",
    "print(w1.wup_similarity(w2))"
   ]
  },
  {
   "cell_type": "code",
   "execution_count": 51,
   "id": "579acf80",
   "metadata": {},
   "outputs": [],
   "source": [
    "import re"
   ]
  },
  {
   "cell_type": "code",
   "execution_count": 50,
   "id": "2efa33e8",
   "metadata": {},
   "outputs": [],
   "source": [
    "str1 = \"Emma's 4 luck numbers are 251 761 232 451\""
   ]
  },
  {
   "cell_type": "code",
   "execution_count": 53,
   "id": "72c9489d",
   "metadata": {},
   "outputs": [],
   "source": [
    "string_pattern = r\"\\d{3}\""
   ]
  },
  {
   "cell_type": "code",
   "execution_count": 54,
   "id": "415e8220",
   "metadata": {},
   "outputs": [],
   "source": [
    "regex_pattern = re.compile(string_pattern)"
   ]
  },
  {
   "cell_type": "code",
   "execution_count": 55,
   "id": "61217e48",
   "metadata": {},
   "outputs": [
    {
     "name": "stdout",
     "output_type": "stream",
     "text": [
      "<class 're.Pattern'>\n"
     ]
    }
   ],
   "source": [
    "print(type(regex_pattern))"
   ]
  },
  {
   "cell_type": "code",
   "execution_count": 56,
   "id": "f47f3e6d",
   "metadata": {},
   "outputs": [],
   "source": [
    "result = regex_pattern.findall(str1)"
   ]
  },
  {
   "cell_type": "code",
   "execution_count": 58,
   "id": "0cdef380",
   "metadata": {},
   "outputs": [
    {
     "name": "stdout",
     "output_type": "stream",
     "text": [
      "['251', '761', '232', '451']\n"
     ]
    }
   ],
   "source": [
    "print(result)"
   ]
  },
  {
   "cell_type": "code",
   "execution_count": 67,
   "id": "3dd96fc7",
   "metadata": {},
   "outputs": [],
   "source": [
    "str2 = \"Kelly's 33 luck numbers are 111 212 415 121244 120\"\n",
    "result = regex_pattern.findall(str2)"
   ]
  },
  {
   "cell_type": "code",
   "execution_count": 68,
   "id": "83f2689e",
   "metadata": {},
   "outputs": [
    {
     "name": "stdout",
     "output_type": "stream",
     "text": [
      "['111', '212', '415', '121', '244', '120']\n"
     ]
    }
   ],
   "source": [
    "print(result)"
   ]
  },
  {
   "cell_type": "code",
   "execution_count": 73,
   "id": "aa4db12c",
   "metadata": {},
   "outputs": [
    {
     "name": "stdout",
     "output_type": "stream",
     "text": [
      "bbookk\n"
     ]
    }
   ],
   "source": [
    "def remove_lengthening(text):\n",
    "    patt = re.compile(r\"(.)\\1{2,}\")\n",
    "    return patt.sub(r\"\\1\\1\", text)\n",
    "print(remove_lengthening('bbbbbbbbboooooookkkkkkkkk'))"
   ]
  },
  {
   "cell_type": "code",
   "execution_count": 74,
   "id": "bebcef88",
   "metadata": {},
   "outputs": [
    {
     "name": "stdout",
     "output_type": "stream",
     "text": [
      "Collecting autocorrect\n",
      "  Downloading autocorrect-2.6.1.tar.gz (622 kB)\n",
      "     -------------------------------------- 622.8/622.8 kB 6.5 MB/s eta 0:00:00\n",
      "  Preparing metadata (setup.py): started\n",
      "  Preparing metadata (setup.py): finished with status 'done'\n",
      "Building wheels for collected packages: autocorrect\n",
      "  Building wheel for autocorrect (setup.py): started\n",
      "  Building wheel for autocorrect (setup.py): finished with status 'done'\n",
      "  Created wheel for autocorrect: filename=autocorrect-2.6.1-py3-none-any.whl size=622382 sha256=cdc9c79113c4a97ab313ac35c4e4e126ded2f932b600a4c7d8dffb82a9b522d2\n",
      "  Stored in directory: c:\\users\\acer\\appdata\\local\\pip\\cache\\wheels\\ab\\0f\\23\\3c010c3fd877b962146e7765f9e9b08026cac8b035094c5750\n",
      "Successfully built autocorrect\n",
      "Installing collected packages: autocorrect\n",
      "Successfully installed autocorrect-2.6.1\n"
     ]
    }
   ],
   "source": [
    "!pip install autocorrect"
   ]
  },
  {
   "cell_type": "code",
   "execution_count": 75,
   "id": "0ecc4c77",
   "metadata": {},
   "outputs": [],
   "source": [
    "from autocorrect import Speller"
   ]
  },
  {
   "cell_type": "code",
   "execution_count": 76,
   "id": "ec2c23d2",
   "metadata": {},
   "outputs": [],
   "source": [
    "spell = Speller(lang='en')"
   ]
  },
  {
   "cell_type": "code",
   "execution_count": 88,
   "id": "a63284a5",
   "metadata": {},
   "outputs": [
    {
     "name": "stdout",
     "output_type": "stream",
     "text": [
      "message\n",
      "service\n",
      "the\n",
      "caaaaaaaaaar\n"
     ]
    }
   ],
   "source": [
    "print(spell('mussage'))\n",
    "print(spell('survice'))\n",
    "print(spell('hte'))\n",
    "print(spell('caaaaaaaaaar'))"
   ]
  },
  {
   "cell_type": "code",
   "execution_count": 85,
   "id": "579c04ec",
   "metadata": {},
   "outputs": [
    {
     "name": "stdout",
     "output_type": "stream",
     "text": [
      "car\n"
     ]
    }
   ],
   "source": [
    "print(spell(remove_lengthening(\"caaaar\")))"
   ]
  },
  {
   "cell_type": "code",
   "execution_count": 91,
   "id": "3c4f0286",
   "metadata": {},
   "outputs": [
    {
     "name": "stdout",
     "output_type": "stream",
     "text": [
      "Collecting patterns\n",
      "  Downloading patterns-0.3.tar.gz (6.0 kB)\n",
      "  Preparing metadata (setup.py): started\n",
      "  Preparing metadata (setup.py): finished with status 'done'\n",
      "Collecting codegen\n",
      "  Downloading codegen-1.0.tar.gz (4.4 kB)\n",
      "  Preparing metadata (setup.py): started\n",
      "  Preparing metadata (setup.py): finished with status 'done'\n",
      "Building wheels for collected packages: patterns, codegen\n",
      "  Building wheel for patterns (setup.py): started\n",
      "  Building wheel for patterns (setup.py): finished with status 'done'\n",
      "  Created wheel for patterns: filename=patterns-0.3-py3-none-any.whl size=6669 sha256=089492a5e7397a4069d879955f17e88ed0dc02f12d84f731dec41a0bcf80a1fe\n",
      "  Stored in directory: c:\\users\\acer\\appdata\\local\\pip\\cache\\wheels\\a3\\76\\9a\\8e5f8b930301b0b711ca7fcb0d489e8aca48e58b98a8abb969\n",
      "  Building wheel for codegen (setup.py): started\n",
      "  Building wheel for codegen (setup.py): finished with status 'done'\n",
      "  Created wheel for codegen: filename=codegen-1.0-py3-none-any.whl size=4724 sha256=49e64022cec56e3e73822b9342f12a5dc17afc8422698d63aeccd3c6de49a1f9\n",
      "  Stored in directory: c:\\users\\acer\\appdata\\local\\pip\\cache\\wheels\\86\\f4\\73\\a934c39b3c9371cca8dc6178aae0e11e5cc97d814bd5e7104d\n",
      "Successfully built patterns codegen\n",
      "Installing collected packages: codegen, patterns\n",
      "Successfully installed codegen-1.0 patterns-0.3\n",
      "Collecting pattern\n",
      "  Downloading Pattern-3.6.0.tar.gz (22.2 MB)\n",
      "     ---------------------------------------- 22.2/22.2 MB 1.1 MB/s eta 0:00:00\n",
      "  Preparing metadata (setup.py): started\n",
      "  Preparing metadata (setup.py): finished with status 'done'\n",
      "Requirement already satisfied: future in c:\\users\\acer\\anaconda3\\lib\\site-packages (from pattern) (0.18.2)\n",
      "Collecting backports.csv\n",
      "  Downloading backports.csv-1.0.7-py2.py3-none-any.whl (12 kB)\n",
      "Collecting mysqlclient\n",
      "  Downloading mysqlclient-2.1.1-cp39-cp39-win_amd64.whl (178 kB)\n",
      "     -------------------------------------- 178.5/178.5 kB 1.1 MB/s eta 0:00:00\n",
      "Requirement already satisfied: beautifulsoup4 in c:\\users\\acer\\anaconda3\\lib\\site-packages (from pattern) (4.11.1)\n",
      "Requirement already satisfied: lxml in c:\\users\\acer\\anaconda3\\lib\\site-packages (from pattern) (4.9.1)\n",
      "Collecting feedparser\n",
      "  Downloading feedparser-6.0.10-py3-none-any.whl (81 kB)\n",
      "     ---------------------------------------- 81.1/81.1 kB 4.4 MB/s eta 0:00:00\n",
      "Collecting pdfminer.six\n",
      "  Downloading pdfminer.six-20221105-py3-none-any.whl (5.6 MB)\n",
      "     ---------------------------------------- 5.6/5.6 MB 2.6 MB/s eta 0:00:00\n",
      "Requirement already satisfied: numpy in c:\\users\\acer\\anaconda3\\lib\\site-packages (from pattern) (1.21.5)\n",
      "Requirement already satisfied: scipy in c:\\users\\acer\\anaconda3\\lib\\site-packages (from pattern) (1.9.1)\n",
      "Requirement already satisfied: nltk in c:\\users\\acer\\anaconda3\\lib\\site-packages (from pattern) (3.7)\n",
      "Requirement already satisfied: python-docx in c:\\users\\acer\\anaconda3\\lib\\site-packages (from pattern) (0.8.11)\n",
      "Collecting cherrypy\n",
      "  Downloading CherryPy-18.8.0-py2.py3-none-any.whl (348 kB)\n",
      "     -------------------------------------- 348.4/348.4 kB 3.1 MB/s eta 0:00:00\n",
      "Requirement already satisfied: requests in c:\\users\\acer\\anaconda3\\lib\\site-packages (from pattern) (2.28.1)\n",
      "Requirement already satisfied: soupsieve>1.2 in c:\\users\\acer\\anaconda3\\lib\\site-packages (from beautifulsoup4->pattern) (2.3.1)\n",
      "Requirement already satisfied: more-itertools in c:\\users\\acer\\anaconda3\\lib\\site-packages (from cherrypy->pattern) (7.0.0)\n",
      "Requirement already satisfied: pywin32>=227 in c:\\users\\acer\\anaconda3\\lib\\site-packages (from cherrypy->pattern) (302)\n",
      "Collecting portend>=2.1.1\n",
      "  Downloading portend-3.1.0-py3-none-any.whl (5.3 kB)\n",
      "Collecting zc.lockfile\n",
      "  Downloading zc.lockfile-3.0.post1-py3-none-any.whl (9.8 kB)\n",
      "Collecting cheroot>=8.2.1\n",
      "  Downloading cheroot-10.0.0-py3-none-any.whl (101 kB)\n",
      "     -------------------------------------- 101.6/101.6 kB 5.7 MB/s eta 0:00:00\n",
      "Collecting jaraco.collections\n",
      "  Downloading jaraco.collections-4.2.0-py3-none-any.whl (11 kB)\n",
      "Collecting sgmllib3k\n",
      "  Downloading sgmllib3k-1.0.0.tar.gz (5.8 kB)\n",
      "  Preparing metadata (setup.py): started\n",
      "  Preparing metadata (setup.py): finished with status 'done'\n",
      "Requirement already satisfied: click in c:\\users\\acer\\anaconda3\\lib\\site-packages (from nltk->pattern) (8.0.4)\n",
      "Requirement already satisfied: joblib in c:\\users\\acer\\anaconda3\\lib\\site-packages (from nltk->pattern) (1.2.0)\n",
      "Requirement already satisfied: regex>=2021.8.3 in c:\\users\\acer\\anaconda3\\lib\\site-packages (from nltk->pattern) (2022.7.9)\n",
      "Requirement already satisfied: tqdm in c:\\users\\acer\\anaconda3\\lib\\site-packages (from nltk->pattern) (4.64.1)\n",
      "Requirement already satisfied: charset-normalizer>=2.0.0 in c:\\users\\acer\\anaconda3\\lib\\site-packages (from pdfminer.six->pattern) (2.0.4)\n",
      "Requirement already satisfied: cryptography>=36.0.0 in c:\\users\\acer\\anaconda3\\lib\\site-packages (from pdfminer.six->pattern) (37.0.1)\n",
      "Requirement already satisfied: urllib3<1.27,>=1.21.1 in c:\\users\\acer\\anaconda3\\lib\\site-packages (from requests->pattern) (1.26.11)\n",
      "Requirement already satisfied: certifi>=2017.4.17 in c:\\users\\acer\\anaconda3\\lib\\site-packages (from requests->pattern) (2022.9.14)\n",
      "Requirement already satisfied: idna<4,>=2.5 in c:\\users\\acer\\anaconda3\\lib\\site-packages (from requests->pattern) (3.3)\n",
      "Collecting jaraco.functools\n",
      "  Downloading jaraco.functools-3.7.0-py3-none-any.whl (8.1 kB)\n",
      "Requirement already satisfied: cffi>=1.12 in c:\\users\\acer\\anaconda3\\lib\\site-packages (from cryptography>=36.0.0->pdfminer.six->pattern) (1.15.1)\n",
      "Collecting tempora>=1.8\n",
      "  Downloading tempora-5.3.0-py3-none-any.whl (13 kB)\n",
      "Requirement already satisfied: colorama in c:\\users\\acer\\anaconda3\\lib\\site-packages (from click->nltk->pattern) (0.4.5)\n",
      "Collecting jaraco.text\n",
      "  Downloading jaraco.text-3.11.1-py3-none-any.whl (11 kB)\n",
      "Requirement already satisfied: setuptools in c:\\users\\acer\\anaconda3\\lib\\site-packages (from zc.lockfile->cherrypy->pattern) (60.10.0)\n",
      "Requirement already satisfied: pycparser in c:\\users\\acer\\anaconda3\\lib\\site-packages (from cffi>=1.12->cryptography>=36.0.0->pdfminer.six->pattern) (2.21)\n",
      "Requirement already satisfied: pytz in c:\\users\\acer\\anaconda3\\lib\\site-packages (from tempora>=1.8->portend>=2.1.1->cherrypy->pattern) (2022.1)\n",
      "Collecting jaraco.context>=4.1\n",
      "  Downloading jaraco.context-4.3.0-py3-none-any.whl (5.3 kB)\n",
      "Collecting autocommand\n",
      "  Downloading autocommand-2.2.2-py3-none-any.whl (19 kB)\n",
      "Collecting inflect\n",
      "  Downloading inflect-6.0.4-py3-none-any.whl (34 kB)\n",
      "Collecting pydantic>=1.9.1\n",
      "  Downloading pydantic-1.10.9-cp39-cp39-win_amd64.whl (2.2 MB)\n",
      "     ---------------------------------------- 2.2/2.2 MB 6.6 MB/s eta 0:00:00\n",
      "Requirement already satisfied: typing-extensions>=4.2.0 in c:\\users\\acer\\anaconda3\\lib\\site-packages (from pydantic>=1.9.1->inflect->jaraco.text->jaraco.collections->cherrypy->pattern) (4.3.0)\n",
      "Building wheels for collected packages: pattern, sgmllib3k\n",
      "  Building wheel for pattern (setup.py): started\n",
      "  Building wheel for pattern (setup.py): finished with status 'done'\n",
      "  Created wheel for pattern: filename=Pattern-3.6-py3-none-any.whl size=22332721 sha256=974271abbec9b3c97531b9079c06e4fc067ffd34e484eac987687320b3111a8f\n",
      "  Stored in directory: c:\\users\\acer\\appdata\\local\\pip\\cache\\wheels\\50\\33\\f3\\ea00b80d50c09f210588bda15ec60bdb38b289b452577cd5c3\n",
      "  Building wheel for sgmllib3k (setup.py): started\n",
      "  Building wheel for sgmllib3k (setup.py): finished with status 'done'\n",
      "  Created wheel for sgmllib3k: filename=sgmllib3k-1.0.0-py3-none-any.whl size=6066 sha256=d00d92fedce7b554f0664a52b28a5440d5d5df86e6ba70116a79844d67b72c15\n",
      "  Stored in directory: c:\\users\\acer\\appdata\\local\\pip\\cache\\wheels\\65\\7a\\a7\\78c287f64e401255dff4c13fdbc672fed5efbfd21c530114e1\n",
      "Successfully built pattern sgmllib3k\n",
      "Installing collected packages: sgmllib3k, backports.csv, zc.lockfile, pydantic, mysqlclient, jaraco.functools, jaraco.context, feedparser, autocommand, tempora, inflect, cheroot, portend, pdfminer.six, jaraco.text, jaraco.collections, cherrypy, pattern\n",
      "Successfully installed autocommand-2.2.2 backports.csv-1.0.7 cheroot-10.0.0 cherrypy-18.8.0 feedparser-6.0.10 inflect-6.0.4 jaraco.collections-4.2.0 jaraco.context-4.3.0 jaraco.functools-3.7.0 jaraco.text-3.11.1 mysqlclient-2.1.1 pattern-3.6 pdfminer.six-20221105 portend-3.1.0 pydantic-1.10.9 sgmllib3k-1.0.0 tempora-5.3.0 zc.lockfile-3.0.post1\n"
     ]
    }
   ],
   "source": [
    "!pip install pattern"
   ]
  },
  {
   "cell_type": "code",
   "execution_count": 92,
   "id": "a480a978",
   "metadata": {},
   "outputs": [],
   "source": [
    "from pattern.en import suggest"
   ]
  },
  {
   "cell_type": "code",
   "execution_count": 96,
   "id": "e7228efe",
   "metadata": {},
   "outputs": [
    {
     "name": "stdout",
     "output_type": "stream",
     "text": [
      "[('message', 0.6216216216216216), ('massage', 0.3783783783783784)]\n",
      "[('service', 0.9253112033195021), ('survive', 0.07468879668049792)]\n",
      "[('the', 0.8653201565642368), ('he', 0.13408515883485067), ('ate', 0.00022706139307570876), ('hate', 0.0002162489457863893), ('hue', 0.00012974936747183358), ('te', 1.0812447289319465e-05), ('htm', 1.0812447289319465e-05)]\n",
      "[('caesar', 0.6666666666666666), ('bazaar', 0.3333333333333333)]\n",
      "[('service', 0.902834008097166), ('survive', 0.0728744939271255), ('suffice', 0.024291497975708502)]\n"
     ]
    }
   ],
   "source": [
    "print(suggest('mussage'))\n",
    "print(suggest('survice'))\n",
    "print(suggest('hte'))\n",
    "print(suggest('caaaar'))\n",
    "print(suggest('suvvice'))"
   ]
  },
  {
   "cell_type": "code",
   "execution_count": null,
   "id": "d2f5df69",
   "metadata": {},
   "outputs": [],
   "source": []
  }
 ],
 "metadata": {
  "kernelspec": {
   "display_name": "Python 3 (ipykernel)",
   "language": "python",
   "name": "python3"
  },
  "language_info": {
   "codemirror_mode": {
    "name": "ipython",
    "version": 3
   },
   "file_extension": ".py",
   "mimetype": "text/x-python",
   "name": "python",
   "nbconvert_exporter": "python",
   "pygments_lexer": "ipython3",
   "version": "3.9.13"
  }
 },
 "nbformat": 4,
 "nbformat_minor": 5
}
