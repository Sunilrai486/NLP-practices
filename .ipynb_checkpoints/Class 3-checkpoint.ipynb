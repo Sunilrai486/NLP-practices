{
 "cells": [
  {
   "cell_type": "code",
   "execution_count": 10,
   "id": "b8b6baea",
   "metadata": {},
   "outputs": [
    {
     "data": {
      "text/plain": [
       "['i',\n",
       " 'me',\n",
       " 'my',\n",
       " 'myself',\n",
       " 'we',\n",
       " 'our',\n",
       " 'ours',\n",
       " 'ourselves',\n",
       " 'you',\n",
       " \"you're\",\n",
       " \"you've\",\n",
       " \"you'll\",\n",
       " \"you'd\",\n",
       " 'your',\n",
       " 'yours',\n",
       " 'yourself',\n",
       " 'yourselves',\n",
       " 'he',\n",
       " 'him',\n",
       " 'his',\n",
       " 'himself',\n",
       " 'she',\n",
       " \"she's\",\n",
       " 'her',\n",
       " 'hers',\n",
       " 'herself',\n",
       " 'it',\n",
       " \"it's\",\n",
       " 'its',\n",
       " 'itself',\n",
       " 'they',\n",
       " 'them',\n",
       " 'their',\n",
       " 'theirs',\n",
       " 'themselves',\n",
       " 'what',\n",
       " 'which',\n",
       " 'who',\n",
       " 'whom',\n",
       " 'this',\n",
       " 'that',\n",
       " \"that'll\",\n",
       " 'these',\n",
       " 'those',\n",
       " 'am',\n",
       " 'is',\n",
       " 'are',\n",
       " 'was',\n",
       " 'were',\n",
       " 'be',\n",
       " 'been',\n",
       " 'being',\n",
       " 'have',\n",
       " 'has',\n",
       " 'had',\n",
       " 'having',\n",
       " 'do',\n",
       " 'does',\n",
       " 'did',\n",
       " 'doing',\n",
       " 'a',\n",
       " 'an',\n",
       " 'the',\n",
       " 'and',\n",
       " 'but',\n",
       " 'if',\n",
       " 'or',\n",
       " 'because',\n",
       " 'as',\n",
       " 'until',\n",
       " 'while',\n",
       " 'of',\n",
       " 'at',\n",
       " 'by',\n",
       " 'for',\n",
       " 'with',\n",
       " 'about',\n",
       " 'against',\n",
       " 'between',\n",
       " 'into',\n",
       " 'through',\n",
       " 'during',\n",
       " 'before',\n",
       " 'after',\n",
       " 'above',\n",
       " 'below',\n",
       " 'to',\n",
       " 'from',\n",
       " 'up',\n",
       " 'down',\n",
       " 'in',\n",
       " 'out',\n",
       " 'on',\n",
       " 'off',\n",
       " 'over',\n",
       " 'under',\n",
       " 'again',\n",
       " 'further',\n",
       " 'then',\n",
       " 'once',\n",
       " 'here',\n",
       " 'there',\n",
       " 'when',\n",
       " 'where',\n",
       " 'why',\n",
       " 'how',\n",
       " 'all',\n",
       " 'any',\n",
       " 'both',\n",
       " 'each',\n",
       " 'few',\n",
       " 'more',\n",
       " 'most',\n",
       " 'other',\n",
       " 'some',\n",
       " 'such',\n",
       " 'no',\n",
       " 'nor',\n",
       " 'not',\n",
       " 'only',\n",
       " 'own',\n",
       " 'same',\n",
       " 'so',\n",
       " 'than',\n",
       " 'too',\n",
       " 'very',\n",
       " 's',\n",
       " 't',\n",
       " 'can',\n",
       " 'will',\n",
       " 'just',\n",
       " 'don',\n",
       " \"don't\",\n",
       " 'should',\n",
       " \"should've\",\n",
       " 'now',\n",
       " 'd',\n",
       " 'll',\n",
       " 'm',\n",
       " 'o',\n",
       " 're',\n",
       " 've',\n",
       " 'y',\n",
       " 'ain',\n",
       " 'aren',\n",
       " \"aren't\",\n",
       " 'couldn',\n",
       " \"couldn't\",\n",
       " 'didn',\n",
       " \"didn't\",\n",
       " 'doesn',\n",
       " \"doesn't\",\n",
       " 'hadn',\n",
       " \"hadn't\",\n",
       " 'hasn',\n",
       " \"hasn't\",\n",
       " 'haven',\n",
       " \"haven't\",\n",
       " 'isn',\n",
       " \"isn't\",\n",
       " 'ma',\n",
       " 'mightn',\n",
       " \"mightn't\",\n",
       " 'mustn',\n",
       " \"mustn't\",\n",
       " 'needn',\n",
       " \"needn't\",\n",
       " 'shan',\n",
       " \"shan't\",\n",
       " 'shouldn',\n",
       " \"shouldn't\",\n",
       " 'wasn',\n",
       " \"wasn't\",\n",
       " 'weren',\n",
       " \"weren't\",\n",
       " 'won',\n",
       " \"won't\",\n",
       " 'wouldn',\n",
       " \"wouldn't\"]"
      ]
     },
     "execution_count": 10,
     "metadata": {},
     "output_type": "execute_result"
    }
   ],
   "source": [
    "from nltk.corpus import stopwords\n",
    "stopwords_english = stopwords.words('english')\n",
    "stopwords_english"
   ]
  },
  {
   "cell_type": "code",
   "execution_count": 11,
   "id": "47272da9",
   "metadata": {},
   "outputs": [
    {
     "data": {
      "text/plain": [
       "179"
      ]
     },
     "execution_count": 11,
     "metadata": {},
     "output_type": "execute_result"
    }
   ],
   "source": [
    "len(stopwords_english)"
   ]
  },
  {
   "cell_type": "code",
   "execution_count": 17,
   "id": "db29edab",
   "metadata": {},
   "outputs": [],
   "source": [
    "text = 'A sentence is a textual unit consisting of words that are gramatically linked.'"
   ]
  },
  {
   "cell_type": "code",
   "execution_count": 18,
   "id": "79040163",
   "metadata": {},
   "outputs": [
    {
     "data": {
      "text/plain": [
       "['A',\n",
       " 'sentence',\n",
       " 'is',\n",
       " 'a',\n",
       " 'textual',\n",
       " 'unit',\n",
       " 'consisting',\n",
       " 'of',\n",
       " 'words',\n",
       " 'that',\n",
       " 'are',\n",
       " 'gramatically',\n",
       " 'linked',\n",
       " '.']"
      ]
     },
     "execution_count": 18,
     "metadata": {},
     "output_type": "execute_result"
    }
   ],
   "source": [
    "from nltk.tokenize import word_tokenize\n",
    "tokenized_word = word_tokenize(text)\n",
    "tokenized_word"
   ]
  },
  {
   "cell_type": "code",
   "execution_count": 27,
   "id": "ee801510",
   "metadata": {},
   "outputs": [
    {
     "data": {
      "text/plain": [
       "['sentence',\n",
       " 'textual',\n",
       " 'unit',\n",
       " 'consisting',\n",
       " 'words',\n",
       " 'gramatically',\n",
       " 'linked',\n",
       " '.']"
      ]
     },
     "execution_count": 27,
     "metadata": {},
     "output_type": "execute_result"
    }
   ],
   "source": [
    "filtered_tokens = []\n",
    "stopword_tokens = []\n",
    "for token in tokenized_word:\n",
    "    if(token.lower() not in(stopwords_english)):\n",
    "        filtered_tokens.append(token)\n",
    "    else:\n",
    "        stopword_tokens.append(token)\n",
    "\n",
    "filtered_tokens"
   ]
  },
  {
   "cell_type": "code",
   "execution_count": 28,
   "id": "716ba54f",
   "metadata": {},
   "outputs": [
    {
     "data": {
      "text/plain": [
       "['A', 'is', 'a', 'of', 'that', 'are']"
      ]
     },
     "execution_count": 28,
     "metadata": {},
     "output_type": "execute_result"
    }
   ],
   "source": [
    "stopword_tokens"
   ]
  },
  {
   "cell_type": "code",
   "execution_count": 33,
   "id": "3cf40fc5",
   "metadata": {},
   "outputs": [],
   "source": [
    "import re\n",
    "tweet = 'Hello guys, this is my first #tweet. Check this @joy! #nlp #machine #learning'"
   ]
  },
  {
   "cell_type": "code",
   "execution_count": 37,
   "id": "2b206c17",
   "metadata": {},
   "outputs": [],
   "source": [
    "pattern = '#'\n",
    "result = re.findall(pattern, tweet)"
   ]
  },
  {
   "cell_type": "code",
   "execution_count": 38,
   "id": "62784c45",
   "metadata": {},
   "outputs": [
    {
     "data": {
      "text/plain": [
       "list"
      ]
     },
     "execution_count": 38,
     "metadata": {},
     "output_type": "execute_result"
    }
   ],
   "source": [
    "type(result)"
   ]
  },
  {
   "cell_type": "code",
   "execution_count": 41,
   "id": "8a48bddd",
   "metadata": {},
   "outputs": [
    {
     "data": {
      "text/plain": [
       "4"
      ]
     },
     "execution_count": 41,
     "metadata": {},
     "output_type": "execute_result"
    }
   ],
   "source": [
    "len(result)"
   ]
  },
  {
   "cell_type": "code",
   "execution_count": 45,
   "id": "41270295",
   "metadata": {},
   "outputs": [
    {
     "data": {
      "text/plain": [
       "'Hello guys, this is my first _tweet. Check this @joy! _nlp _machine  _learning'"
      ]
     },
     "execution_count": 45,
     "metadata": {},
     "output_type": "execute_result"
    }
   ],
   "source": [
    "pattern = '#'\n",
    "result = re.sub('#', '_', tweet)\n",
    "result"
   ]
  },
  {
   "cell_type": "code",
   "execution_count": 46,
   "id": "a176973a",
   "metadata": {},
   "outputs": [
    {
     "data": {
      "text/plain": [
       "78"
      ]
     },
     "execution_count": 46,
     "metadata": {},
     "output_type": "execute_result"
    }
   ],
   "source": [
    "len(result)"
   ]
  },
  {
   "cell_type": "code",
   "execution_count": 47,
   "id": "172cf87c",
   "metadata": {},
   "outputs": [
    {
     "data": {
      "text/plain": [
       "str"
      ]
     },
     "execution_count": 47,
     "metadata": {},
     "output_type": "execute_result"
    }
   ],
   "source": [
    "type(result)"
   ]
  },
  {
   "cell_type": "code",
   "execution_count": 48,
   "id": "048f8cff",
   "metadata": {},
   "outputs": [],
   "source": [
    "text = \"The categorical cat hello mycat\"\n",
    "text1 = \"categorical cat hello mycat\""
   ]
  },
  {
   "cell_type": "code",
   "execution_count": 49,
   "id": "9c8ef350",
   "metadata": {},
   "outputs": [
    {
     "name": "stdout",
     "output_type": "stream",
     "text": [
      "['The']\n"
     ]
    }
   ],
   "source": [
    "print(re.findall(r'\\AThe', text))"
   ]
  },
  {
   "cell_type": "code",
   "execution_count": 50,
   "id": "ef838434",
   "metadata": {},
   "outputs": [
    {
     "name": "stdout",
     "output_type": "stream",
     "text": [
      "[]\n"
     ]
    }
   ],
   "source": [
    "print(re.findall(r'\\AThe', text1))"
   ]
  },
  {
   "cell_type": "code",
   "execution_count": 63,
   "id": "9d76b7e0",
   "metadata": {},
   "outputs": [
    {
     "data": {
      "text/plain": [
       "['cat', 'cat']"
      ]
     },
     "execution_count": 63,
     "metadata": {},
     "output_type": "execute_result"
    }
   ],
   "source": [
    "re.findall(r'\\bcat', text1) #starting with cat"
   ]
  },
  {
   "cell_type": "code",
   "execution_count": 69,
   "id": "bf204ba1",
   "metadata": {},
   "outputs": [
    {
     "data": {
      "text/plain": [
       "(0, 3)"
      ]
     },
     "execution_count": 69,
     "metadata": {},
     "output_type": "execute_result"
    }
   ],
   "source": [
    "re.search(r'\\bcat', text1).span()"
   ]
  },
  {
   "cell_type": "code",
   "execution_count": 70,
   "id": "199ed664",
   "metadata": {},
   "outputs": [
    {
     "data": {
      "text/plain": [
       "['cat', 'cat']"
      ]
     },
     "execution_count": 70,
     "metadata": {},
     "output_type": "execute_result"
    }
   ],
   "source": [
    "re.findall(r'cat\\b', text1) #ending with cat"
   ]
  },
  {
   "cell_type": "code",
   "execution_count": 71,
   "id": "9920620d",
   "metadata": {},
   "outputs": [
    {
     "data": {
      "text/plain": [
       "['cat']"
      ]
     },
     "execution_count": 71,
     "metadata": {},
     "output_type": "execute_result"
    }
   ],
   "source": [
    "re.findall(r'\\bcat\\b', text1) #starting and ending with cat"
   ]
  },
  {
   "cell_type": "code",
   "execution_count": 72,
   "id": "a433f479",
   "metadata": {},
   "outputs": [],
   "source": [
    "textone = 'This is an amazing classroom, everyone speaks ENGLISH zizazo!'\n",
    "texttwo = 'This is a good classroom, every one speaks ENGLISH zizxzd!!'"
   ]
  },
  {
   "cell_type": "code",
   "execution_count": 77,
   "id": "0f7297ed",
   "metadata": {},
   "outputs": [
    {
     "data": {
      "text/plain": [
       "['zi']"
      ]
     },
     "execution_count": 77,
     "metadata": {},
     "output_type": "execute_result"
    }
   ],
   "source": [
    "re.findall(r'\\Bzi', textone) # returns if not at the begining of the word"
   ]
  },
  {
   "cell_type": "code",
   "execution_count": 78,
   "id": "cc95f672",
   "metadata": {},
   "outputs": [
    {
     "data": {
      "text/plain": [
       "[]"
      ]
     },
     "execution_count": 78,
     "metadata": {},
     "output_type": "execute_result"
    }
   ],
   "source": [
    "re.findall(r'\\Bzi', texttwo) # returns if not at the begining of the word"
   ]
  },
  {
   "cell_type": "code",
   "execution_count": 80,
   "id": "cc3edc25",
   "metadata": {},
   "outputs": [
    {
     "data": {
      "text/plain": [
       "['class']"
      ]
     },
     "execution_count": 80,
     "metadata": {},
     "output_type": "execute_result"
    }
   ],
   "source": [
    "#returns if class is not at the start of the word.\n",
    "textthree = 'This is an amazing classroom, everyone speaks ENGLISH. This is a Highclass!!'\n",
    "re.findall(r'\\Bclass', textthree)"
   ]
  },
  {
   "cell_type": "code",
   "execution_count": 81,
   "id": "2dfa5731",
   "metadata": {},
   "outputs": [
    {
     "data": {
      "text/plain": [
       "[]"
      ]
     },
     "execution_count": 81,
     "metadata": {},
     "output_type": "execute_result"
    }
   ],
   "source": [
    "#returns if class is not at the start of the word.\n",
    "textfour = 'This is an amazing classroom, everyone speaks ENGLISH !!'\n",
    "re.findall(r'\\Bclass', textfour)"
   ]
  },
  {
   "cell_type": "code",
   "execution_count": 83,
   "id": "b6cf3abd",
   "metadata": {},
   "outputs": [
    {
     "data": {
      "text/plain": [
       "['class', 'class']"
      ]
     },
     "execution_count": 83,
     "metadata": {},
     "output_type": "execute_result"
    }
   ],
   "source": [
    "#returns if class is not at the end of the word.\n",
    "textfour2 = 'This is an amazing classroom, everyone speaks ENGLISH. classy !!'\n",
    "re.findall(r'class\\B', textfour2)"
   ]
  },
  {
   "cell_type": "code",
   "execution_count": 84,
   "id": "d3f1f348",
   "metadata": {},
   "outputs": [
    {
     "data": {
      "text/plain": [
       "['class']"
      ]
     },
     "execution_count": 84,
     "metadata": {},
     "output_type": "execute_result"
    }
   ],
   "source": [
    "#returns if class is in between the word.\n",
    "textfive = 'This are amazing 2classrooms, everyone speaks ENGLISH!!'\n",
    "re.findall(r'\\Bclass\\B', textfive)"
   ]
  },
  {
   "cell_type": "code",
   "execution_count": 88,
   "id": "ea868c88",
   "metadata": {},
   "outputs": [
    {
     "data": {
      "text/plain": [
       "['9', '1', '2', '3']"
      ]
     },
     "execution_count": 88,
     "metadata": {},
     "output_type": "execute_result"
    }
   ],
   "source": [
    "#finding numbes in text\n",
    "text = 'This is an 9amazing classroom, every one speaks ENGLISH 123. classy !!'\n",
    "re.findall('\\d', text)"
   ]
  },
  {
   "cell_type": "code",
   "execution_count": 92,
   "id": "ba209e7c",
   "metadata": {},
   "outputs": [
    {
     "name": "stdout",
     "output_type": "stream",
     "text": [
      "['T', 'h', 'i', 's', ' ', 'i', 's', ' ', 'a', 'n', ' ', ' ', 'a', 'm', 'a', 'z', 'i', 'n', 'g', ' ', 'c', 'l', 'a', 's', 's', 'r', 'o', 'o', 'm', ',', ' ', ' ', 'e', 'v', 'e', 'r', 'y', ' ', 'o', 'n', 'e', ' ', 's', 'p', 'e', 'a', 'k', 's', ' ', 'E', 'N', 'G', 'L', 'I', 'S', 'H', ' ', '.', ' ', 'c', 'l', 'a', 's', 's', 'y', ' ', '!', '!']\n"
     ]
    }
   ],
   "source": [
    "text = 'This is an 2 amazing classroom, 4 every one speaks ENGLISH 123. classy !!'\n",
    "print(re.findall('\\D', text))"
   ]
  },
  {
   "cell_type": "code",
   "execution_count": 95,
   "id": "3e45c6f2",
   "metadata": {},
   "outputs": [
    {
     "data": {
      "text/plain": [
       "'This is an  amazing classroom,  every one speaks ENGLISH . classy !!'"
      ]
     },
     "execution_count": 95,
     "metadata": {},
     "output_type": "execute_result"
    }
   ],
   "source": [
    "#joining all the filtered elements in the array.\n",
    "result = re.findall('\\D', text)\n",
    "''.join(result)"
   ]
  },
  {
   "cell_type": "code",
   "execution_count": 90,
   "id": "b4415c5a",
   "metadata": {},
   "outputs": [
    {
     "name": "stdout",
     "output_type": "stream",
     "text": [
      "[' ', ' ', ' ', ' ', ' ', ' ', ' ', ' ', ' ', ' ', ' ']\n",
      "11\n",
      "11\n"
     ]
    }
   ],
   "source": [
    "# returns spaces from the text.\n",
    "text = 'This is an amazing classroom, every one speaks ENGLISH 123. classy !!'\n",
    "print(re.findall('\\s', text))\n",
    "print(len(re.findall('\\s', text)))\n",
    "print(len(re.findall(' ', text)))"
   ]
  },
  {
   "cell_type": "code",
   "execution_count": 98,
   "id": "68bdf76a",
   "metadata": {},
   "outputs": [
    {
     "name": "stdout",
     "output_type": "stream",
     "text": [
      "['T', 'h', 'i', 's', 'i', 's', 'a', 'n', 'a', 'm', 'a', 'z', 'i', 'n', 'g', 'c', 'l', 'a', 's', 's', 'r', 'o', 'o', 'm', ',', 'e', 'v', 'e', 'r', 'y', 'o', 'n', 'e', 's', 'p', 'e', 'a', 'k', 's', 'E', 'N', 'G', 'L', 'I', 'S', 'H', '1', '2', '3', '.', 'c', 'l', 'a', 's', 's', 'y', '!', '!']\n",
      "58\n"
     ]
    },
    {
     "data": {
      "text/plain": [
       "'Thisisanamazingclassroom,everyonespeaksENGLISH123.classy!!'"
      ]
     },
     "execution_count": 98,
     "metadata": {},
     "output_type": "execute_result"
    }
   ],
   "source": [
    "# returns letters except white space.\n",
    "text = 'This is an amazing classroom, every one speaks ENGLISH 123. classy !!'\n",
    "print(re.findall('\\S', text))\n",
    "print(len(re.findall('\\S', text)))\n",
    "\n",
    "result = re.findall('\\S', text)\n",
    "''.join(result)"
   ]
  },
  {
   "cell_type": "code",
   "execution_count": 100,
   "id": "cdd04b51",
   "metadata": {},
   "outputs": [
    {
     "name": "stdout",
     "output_type": "stream",
     "text": [
      "['T', 'h', 'i', 's', 'i', 's', 'a', 'n', 'a', 'm', 'a', 'z', 'i', 'n', 'g', 'c', 'l', 'a', 's', 's', '_', 'r', 'o', 'o', 'm', 'e', 'v', 'e', 'r', 'y', 'o', 'n', 'e', 's', 'p', 'e', 'a', 'k', 's', 'E', 'N', 'G', 'L', 'I', 'S', 'H', '1', '2', '3', 'c', 'l', 'a', 's', 's', 'y']\n",
      "55\n"
     ]
    }
   ],
   "source": [
    "# . and , and ! and white spaces are not included.\n",
    "text = 'This is an amazing class_room, every one speaks ENGLISH 123. classy !!'\n",
    "print(re.findall('\\w', text))\n",
    "print(len(re.findall('\\w', text)))"
   ]
  },
  {
   "cell_type": "code",
   "execution_count": 102,
   "id": "93fb93ae",
   "metadata": {},
   "outputs": [
    {
     "name": "stdout",
     "output_type": "stream",
     "text": [
      "[' ', ' ', ' ', ' ', ',', ' ', ' ', ' ', ' ', ' ', '.', ' ', ' ', '!', '!']\n",
      "15\n"
     ]
    }
   ],
   "source": [
    "# words a-z lower or upper, digits and _ are excluded.\n",
    "text = 'This is an amazing class_room, every one speaks ENGLISH 123. classy !!'\n",
    "print(re.findall('\\W', text))\n",
    "print(len(re.findall('\\W', text)))"
   ]
  },
  {
   "cell_type": "code",
   "execution_count": 108,
   "id": "73afcdf8",
   "metadata": {},
   "outputs": [
    {
     "name": "stdout",
     "output_type": "stream",
     "text": [
      "['classy']\n",
      "1\n"
     ]
    }
   ],
   "source": [
    "# return if the given word is at the end of the text.\n",
    "text = 'This is an amazing class_room, every one speaks ENGLISH 123. classy'\n",
    "print(re.findall('classy\\Z', text))\n",
    "print(len(re.findall('classy\\Z', text)))"
   ]
  },
  {
   "cell_type": "code",
   "execution_count": 110,
   "id": "20bf934e",
   "metadata": {},
   "outputs": [
    {
     "name": "stdout",
     "output_type": "stream",
     "text": [
      "['n', 'm', 'n', 'o', 'o', 'm', 'o', 'n', 'p', 'q']\n",
      "10\n"
     ]
    }
   ],
   "source": [
    "# return if the given word is at the end of the text.\n",
    "text = 'This is an amazing class_room, every one speaks ENGLISH 123 q. classy'\n",
    "print(re.findall('[m-q]', text))\n",
    "print(len(re.findall('[m-q]', text)))"
   ]
  },
  {
   "cell_type": "code",
   "execution_count": 112,
   "id": "ea10d12d",
   "metadata": {},
   "outputs": [
    {
     "name": "stdout",
     "output_type": "stream",
     "text": [
      "['class', 'class', 'c  1s']\n",
      "3\n"
     ]
    }
   ],
   "source": [
    "# returns the word which matches the given pattern and of equal length.\n",
    "text = 'This is an amazing class_room, every one speaks ENGLISH 123 q. classy c  1s'\n",
    "print(re.findall('c...s', text))\n",
    "print(len(re.findall('c...s', text)))"
   ]
  },
  {
   "cell_type": "code",
   "execution_count": 118,
   "id": "e6d073a8",
   "metadata": {},
   "outputs": [
    {
     "name": "stdout",
     "output_type": "stream",
     "text": [
      "['Th']\n",
      "1\n"
     ]
    }
   ],
   "source": [
    "# returns the string if it's found in the begining of the text \n",
    "text = 'This is an The amazing class_room, every one speaks ENGLISH 123 q. classy c   s'\n",
    "print(re.findall('^Th', text))\n",
    "print(len(re.findall('^Th', text)))"
   ]
  },
  {
   "cell_type": "code",
   "execution_count": 117,
   "id": "4fb023d1",
   "metadata": {},
   "outputs": [
    {
     "name": "stdout",
     "output_type": "stream",
     "text": [
      "[]\n",
      "0\n"
     ]
    }
   ],
   "source": [
    "# returns the string if it's found in the begining of the text \n",
    "text = 'An amazing class_room, every one speaks ENGLISH 123 q. classy The c   s'\n",
    "print(re.findall('^Th', text))\n",
    "print(len(re.findall('^Th', text)))"
   ]
  },
  {
   "cell_type": "code",
   "execution_count": null,
   "id": "226af1ab",
   "metadata": {},
   "outputs": [],
   "source": []
  }
 ],
 "metadata": {
  "kernelspec": {
   "display_name": "Python 3 (ipykernel)",
   "language": "python",
   "name": "python3"
  },
  "language_info": {
   "codemirror_mode": {
    "name": "ipython",
    "version": 3
   },
   "file_extension": ".py",
   "mimetype": "text/x-python",
   "name": "python",
   "nbconvert_exporter": "python",
   "pygments_lexer": "ipython3",
   "version": "3.9.13"
  }
 },
 "nbformat": 4,
 "nbformat_minor": 5
}
