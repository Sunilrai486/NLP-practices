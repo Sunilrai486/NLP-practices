{
 "cells": [
  {
   "cell_type": "code",
   "execution_count": 8,
   "id": "226af1ab",
   "metadata": {},
   "outputs": [
    {
     "name": "stdout",
     "output_type": "stream",
     "text": [
      "['h', 'i', 'i', 'a', 'n', 'a', 'm', 'a', 'i', 'n', 'g', 'c', 'l', 'a', 'o', 'o', 'm', 'e', 'e', 'o', 'n', 'e', 'p', 'e', 'a', 'k', 'q', 'c', 'l', 'a']\n",
      "30\n"
     ]
    }
   ],
   "source": [
    "# returns the letter found between the provided regex inclusive\n",
    "import re\n",
    "text = 'This is an amazing class_room, every one speaks ENGLISH 123 q. classy'\n",
    "print(re.findall('[a-q]', text))\n",
    "print(len(re.findall('[a-q]', text)))"
   ]
  },
  {
   "cell_type": "code",
   "execution_count": 11,
   "id": "6a5346cd",
   "metadata": {},
   "outputs": [
    {
     "name": "stdout",
     "output_type": "stream",
     "text": [
      "['clas', 'clas']\n",
      "2\n"
     ]
    }
   ],
   "source": [
    "# returns the matched part of the word with the regex\n",
    "text = 'This is an amazing class_room, every one speaks ENGLISH 123. classy  c  1s'\n",
    "print(re.findall('c..s', text))\n",
    "print(len(re.findall('c..s', text)))"
   ]
  },
  {
   "cell_type": "code",
   "execution_count": 45,
   "id": "d1196cb0",
   "metadata": {},
   "outputs": [
    {
     "name": "stdout",
     "output_type": "stream",
     "text": [
      "['class_room', 'classy']\n",
      "2\n"
     ]
    }
   ],
   "source": [
    "# returns the matched part of the word with the regex\n",
    "text = 'This is an amazing class_room, every one speaks ENGLISH 123. classy  c  1s'\n",
    "print(re.findall(r'\\b\\w*la\\w*\\b', text))\n",
    "print(len(re.findall(r'\\b\\w*la\\w*\\b', text)))"
   ]
  },
  {
   "cell_type": "code",
   "execution_count": 46,
   "id": "bc81151b",
   "metadata": {},
   "outputs": [
    {
     "name": "stdout",
     "output_type": "stream",
     "text": [
      "['Th']\n",
      "1\n"
     ]
    }
   ],
   "source": [
    "# returns the matched part of the word with the regex\n",
    "text = 'This is an amazing class_room, every one speaks ENGLISH 123. classy  c  s'\n",
    "print(re.findall('^Th', text))\n",
    "print(len(re.findall('^Th', text)))"
   ]
  },
  {
   "cell_type": "code",
   "execution_count": 47,
   "id": "20524061",
   "metadata": {},
   "outputs": [
    {
     "name": "stdout",
     "output_type": "stream",
     "text": [
      "[]\n",
      "0\n"
     ]
    }
   ],
   "source": [
    "# returns the matched part of the word with the regex\n",
    "text = 'Tat is an amazing class_room, every one speaks ENGLISH 123. classy  c  s'\n",
    "print(re.findall('^Th', text))\n",
    "print(len(re.findall('^Th', text)))"
   ]
  },
  {
   "cell_type": "code",
   "execution_count": 48,
   "id": "79a18d74",
   "metadata": {},
   "outputs": [
    {
     "name": "stdout",
     "output_type": "stream",
     "text": [
      "['T']\n",
      "1\n"
     ]
    }
   ],
   "source": [
    "# returns the matched part of the string. If first is met it's returned otherwise second is checked.\n",
    "text = 'This is an amazing class_room, every one speaks ENGLISH 123. classy  c  s'\n",
    "print(re.findall('^A|^T', text))\n",
    "print(len(re.findall('^A|^T', text)))"
   ]
  },
  {
   "cell_type": "code",
   "execution_count": 49,
   "id": "5bb8acc5",
   "metadata": {},
   "outputs": [
    {
     "name": "stdout",
     "output_type": "stream",
     "text": [
      "[]\n",
      "0\n"
     ]
    }
   ],
   "source": [
    "text = 'This is an amazing class_room, every one speaks ENGLISH 123. classy  c  s'\n",
    "print(re.findall('^A&^T', text))\n",
    "print(len(re.findall('^A&^T', text)))"
   ]
  },
  {
   "cell_type": "code",
   "execution_count": 50,
   "id": "ab68e0ad",
   "metadata": {},
   "outputs": [
    {
     "name": "stdout",
     "output_type": "stream",
     "text": [
      "['This']\n",
      "1\n"
     ]
    }
   ],
   "source": [
    "text = 'This is an amazing class_room, every one speaks ENGLISH 123. classy  c  s'\n",
    "print(re.findall('^T..s', text))\n",
    "print(len(re.findall('^T..s', text)))"
   ]
  },
  {
   "cell_type": "code",
   "execution_count": 51,
   "id": "0ea8449c",
   "metadata": {},
   "outputs": [
    {
     "name": "stdout",
     "output_type": "stream",
     "text": [
      "['+', '+', '+']\n",
      "3\n"
     ]
    }
   ],
   "source": [
    "text = 'This is an amazing++ class_room, @every one *speaks !ENGLISH |123. classy  c  +/'\n",
    "print(re.findall('[+]', text))\n",
    "print(len(re.findall('[+]', text)))"
   ]
  },
  {
   "cell_type": "code",
   "execution_count": 53,
   "id": "4bfa7ae5",
   "metadata": {},
   "outputs": [
    {
     "name": "stdout",
     "output_type": "stream",
     "text": [
      "1 [('1', '30'), ('12', '30'), ('1', '5'), ('12', '5')]\n",
      "2 [('12', '30')]\n",
      "3 [('1', '30'), ('12', '30')]\n",
      "4 [('12', '30'), ('12', '5')]\n"
     ]
    }
   ],
   "source": [
    "text = '\\yes 1:30  no 12:30  maybe 1:5  test me 12:5'\n",
    "print(1, re.findall(r'(\\d?\\d):(\\d?\\d)', text))\n",
    "print(2, re.findall(r'(\\d\\d):(\\d\\d)', text))\n",
    "print(3, re.findall(r'(\\d?\\d):(\\d\\d)', text))\n",
    "print(4, re.findall(r'(\\d\\d):(\\d?\\d)', text))"
   ]
  },
  {
   "cell_type": "code",
   "execution_count": 58,
   "id": "16bd188b",
   "metadata": {},
   "outputs": [
    {
     "name": "stdout",
     "output_type": "stream",
     "text": [
      "['12', '890', '3434']\n",
      "3\n"
     ]
    }
   ],
   "source": [
    "# returns the matched numriec part of the string/number. \n",
    "text = 'This is an 12 amazing++ class_room, 890 @every one *speaks !ENGLISH |. classy 3434  c  +/'\n",
    "print(re.findall('\\d+', text))\n",
    "print(len(re.findall('\\d+', text)))"
   ]
  },
  {
   "cell_type": "code",
   "execution_count": 61,
   "id": "f8dd6d10",
   "metadata": {},
   "outputs": [
    {
     "name": "stdout",
     "output_type": "stream",
     "text": [
      "[' ', ' ', ' ', ' ', ' ', ' ', ' ', ' ', ' ', ' ', ' ', ' ', ' ', '  ', '  ']\n",
      "15\n",
      "Thisisan12amazing++class_room,890@everyone*speaks!ENGLISH|.classy3434c+/\n"
     ]
    }
   ],
   "source": [
    "# replaces the space with non-space in the text.\n",
    "text = 'This is an 12 amazing++ class_room, 890 @every one *speaks !ENGLISH |. classy 3434  c  +/'\n",
    "print(re.findall('\\s+', text))\n",
    "print(len(re.findall('\\s+', text)))\n",
    "\n",
    "print(re.sub('\\s+', '', text))"
   ]
  },
  {
   "cell_type": "code",
   "execution_count": 62,
   "id": "3fbea87c",
   "metadata": {},
   "outputs": [
    {
     "name": "stdout",
     "output_type": "stream",
     "text": [
      "['1', '12', '890', '3434']\n",
      "4\n"
     ]
    }
   ],
   "source": [
    "# returns the matched numberic part of the word/number.\n",
    "text = '1This is an 12 amazing++ class_room, 890 @every one *speaks !ENGLISH |. classy 3434  c  +/'\n",
    "print(re.findall('\\d+', text))\n",
    "print(len(re.findall('\\d+', text)))"
   ]
  },
  {
   "cell_type": "code",
   "execution_count": 64,
   "id": "ceaacef8",
   "metadata": {},
   "outputs": [
    {
     "data": {
      "text/plain": [
       "['@UN', '@UN_Women']"
      ]
     },
     "execution_count": 64,
     "metadata": {},
     "output_type": "execute_result"
    }
   ],
   "source": [
    "# returns the string matched with the regex.\n",
    "text = '#UNS @ NY Sofiety for Ethical Culture bit.ly/2gyVelr @UN @UN_Women'\n",
    "tokens = text.split()\n",
    "[w for w in tokens if re.search('@[a-zA-z]+', w)]"
   ]
  },
  {
   "cell_type": "code",
   "execution_count": 68,
   "id": "9cbe396e",
   "metadata": {},
   "outputs": [
    {
     "data": {
      "text/plain": [
       "[('2', '45'), ('11', '30')]"
      ]
     },
     "execution_count": 68,
     "metadata": {},
     "output_type": "execute_result"
    }
   ],
   "source": [
    "time_sentences = \"Monday: The doctor's appointment is at 2:45 pm. Tuesday: The dentist's appointment is at 11:30 am. :45pm\"\n",
    "re.findall(r'(\\d?\\d):(\\d\\d)', time_sentences)\n"
   ]
  },
  {
   "cell_type": "code",
   "execution_count": 69,
   "id": "cbdbd589",
   "metadata": {},
   "outputs": [
    {
     "data": {
      "text/plain": [
       "[('11', '30')]"
      ]
     },
     "execution_count": 69,
     "metadata": {},
     "output_type": "execute_result"
    }
   ],
   "source": [
    "re.findall(r'(\\d\\d):(\\d\\d)', time_sentences)"
   ]
  },
  {
   "cell_type": "code",
   "execution_count": 71,
   "id": "ca32f4b1",
   "metadata": {},
   "outputs": [
    {
     "data": {
      "text/plain": [
       "[('2', '45'), ('1', '30'), ('', '45')]"
      ]
     },
     "execution_count": 71,
     "metadata": {},
     "output_type": "execute_result"
    }
   ],
   "source": [
    "re.findall(r'(\\d?):(\\d\\d)', time_sentences)"
   ]
  },
  {
   "cell_type": "code",
   "execution_count": 76,
   "id": "8d2d7784",
   "metadata": {},
   "outputs": [],
   "source": [
    "import numpy as np\n",
    "from sklearn.feature_extraction.text import CountVectorizer"
   ]
  },
  {
   "cell_type": "code",
   "execution_count": 87,
   "id": "af89b0a0",
   "metadata": {},
   "outputs": [],
   "source": [
    "text_data = np.array(['I love Brazil. Brazil!',\n",
    "                     'Sweden is best',\n",
    "                     'Nepal beats both'])"
   ]
  },
  {
   "cell_type": "code",
   "execution_count": 88,
   "id": "9db17070",
   "metadata": {},
   "outputs": [],
   "source": [
    "count = CountVectorizer()\n",
    "bag_of_words = count.fit_transform(text_data)"
   ]
  },
  {
   "cell_type": "code",
   "execution_count": 89,
   "id": "a1625c54",
   "metadata": {},
   "outputs": [
    {
     "name": "stdout",
     "output_type": "stream",
     "text": [
      "  (0, 5)\t1\n",
      "  (0, 3)\t2\n",
      "  (1, 7)\t1\n",
      "  (1, 4)\t1\n",
      "  (1, 1)\t1\n",
      "  (2, 6)\t1\n",
      "  (2, 0)\t1\n",
      "  (2, 2)\t1\n"
     ]
    }
   ],
   "source": [
    "print(bag_of_words)"
   ]
  },
  {
   "cell_type": "code",
   "execution_count": 90,
   "id": "31bbd745",
   "metadata": {},
   "outputs": [
    {
     "name": "stderr",
     "output_type": "stream",
     "text": [
      "C:\\Users\\Acer\\anaconda3\\lib\\site-packages\\sklearn\\utils\\deprecation.py:87: FutureWarning: Function get_feature_names is deprecated; get_feature_names is deprecated in 1.0 and will be removed in 1.2. Please use get_feature_names_out instead.\n",
      "  warnings.warn(msg, category=FutureWarning)\n"
     ]
    },
    {
     "data": {
      "text/plain": [
       "['beats', 'best', 'both', 'brazil', 'is', 'love', 'nepal', 'sweden']"
      ]
     },
     "execution_count": 90,
     "metadata": {},
     "output_type": "execute_result"
    }
   ],
   "source": [
    "count.get_feature_names()"
   ]
  },
  {
   "cell_type": "code",
   "execution_count": 91,
   "id": "60214ec7",
   "metadata": {},
   "outputs": [
    {
     "data": {
      "text/plain": [
       "array([[0, 0, 0, 2, 0, 1, 0, 0],\n",
       "       [0, 1, 0, 0, 1, 0, 0, 1],\n",
       "       [1, 0, 1, 0, 0, 0, 1, 0]], dtype=int64)"
      ]
     },
     "execution_count": 91,
     "metadata": {},
     "output_type": "execute_result"
    }
   ],
   "source": [
    "bag_of_words.toarray()"
   ]
  },
  {
   "cell_type": "code",
   "execution_count": 92,
   "id": "67d48793",
   "metadata": {},
   "outputs": [
    {
     "data": {
      "text/html": [
       "<div>\n",
       "<style scoped>\n",
       "    .dataframe tbody tr th:only-of-type {\n",
       "        vertical-align: middle;\n",
       "    }\n",
       "\n",
       "    .dataframe tbody tr th {\n",
       "        vertical-align: top;\n",
       "    }\n",
       "\n",
       "    .dataframe thead th {\n",
       "        text-align: right;\n",
       "    }\n",
       "</style>\n",
       "<table border=\"1\" class=\"dataframe\">\n",
       "  <thead>\n",
       "    <tr style=\"text-align: right;\">\n",
       "      <th></th>\n",
       "      <th>beats</th>\n",
       "      <th>best</th>\n",
       "      <th>both</th>\n",
       "      <th>brazil</th>\n",
       "      <th>is</th>\n",
       "      <th>love</th>\n",
       "      <th>nepal</th>\n",
       "      <th>sweden</th>\n",
       "    </tr>\n",
       "  </thead>\n",
       "  <tbody>\n",
       "    <tr>\n",
       "      <th>0</th>\n",
       "      <td>0</td>\n",
       "      <td>0</td>\n",
       "      <td>0</td>\n",
       "      <td>2</td>\n",
       "      <td>0</td>\n",
       "      <td>1</td>\n",
       "      <td>0</td>\n",
       "      <td>0</td>\n",
       "    </tr>\n",
       "    <tr>\n",
       "      <th>1</th>\n",
       "      <td>0</td>\n",
       "      <td>1</td>\n",
       "      <td>0</td>\n",
       "      <td>0</td>\n",
       "      <td>1</td>\n",
       "      <td>0</td>\n",
       "      <td>0</td>\n",
       "      <td>1</td>\n",
       "    </tr>\n",
       "    <tr>\n",
       "      <th>2</th>\n",
       "      <td>1</td>\n",
       "      <td>0</td>\n",
       "      <td>1</td>\n",
       "      <td>0</td>\n",
       "      <td>0</td>\n",
       "      <td>0</td>\n",
       "      <td>1</td>\n",
       "      <td>0</td>\n",
       "    </tr>\n",
       "  </tbody>\n",
       "</table>\n",
       "</div>"
      ],
      "text/plain": [
       "   beats  best  both  brazil  is  love  nepal  sweden\n",
       "0      0     0     0       2   0     1      0       0\n",
       "1      0     1     0       0   1     0      0       1\n",
       "2      1     0     1       0   0     0      1       0"
      ]
     },
     "execution_count": 92,
     "metadata": {},
     "output_type": "execute_result"
    }
   ],
   "source": [
    "import pandas as pd\n",
    "df = pd.DataFrame(data = bag_of_words.toarray(), columns=count.get_feature_names())\n",
    "df"
   ]
  },
  {
   "cell_type": "code",
   "execution_count": 93,
   "id": "15d7eeb6",
   "metadata": {},
   "outputs": [],
   "source": [
    "from sklearn.feature_extraction.text import TfidfVectorizer\n",
    "text_data = np.array(['I love Brazil. Brazil!',\n",
    "                     'Sweden is best',\n",
    "                     'Nepal beats both'])"
   ]
  },
  {
   "cell_type": "code",
   "execution_count": 94,
   "id": "aabef6e4",
   "metadata": {},
   "outputs": [],
   "source": [
    "tfidf = TfidfVectorizer()\n",
    "feature_matrix = tfidf.fit_transform(text_data)"
   ]
  },
  {
   "cell_type": "code",
   "execution_count": 95,
   "id": "baa25479",
   "metadata": {},
   "outputs": [
    {
     "data": {
      "text/plain": [
       "<3x8 sparse matrix of type '<class 'numpy.float64'>'\n",
       "\twith 8 stored elements in Compressed Sparse Row format>"
      ]
     },
     "execution_count": 95,
     "metadata": {},
     "output_type": "execute_result"
    }
   ],
   "source": [
    "feature_matrix"
   ]
  },
  {
   "cell_type": "code",
   "execution_count": 96,
   "id": "96389e71",
   "metadata": {},
   "outputs": [
    {
     "name": "stdout",
     "output_type": "stream",
     "text": [
      "  (0, 3)\t0.8944271909999159\n",
      "  (0, 5)\t0.4472135954999579\n",
      "  (1, 1)\t0.5773502691896257\n",
      "  (1, 4)\t0.5773502691896257\n",
      "  (1, 7)\t0.5773502691896257\n",
      "  (2, 2)\t0.5773502691896257\n",
      "  (2, 0)\t0.5773502691896257\n",
      "  (2, 6)\t0.5773502691896257\n"
     ]
    }
   ],
   "source": [
    "print(feature_matrix)"
   ]
  },
  {
   "cell_type": "code",
   "execution_count": 103,
   "id": "c95f7350",
   "metadata": {},
   "outputs": [
    {
     "data": {
      "text/html": [
       "<div>\n",
       "<style scoped>\n",
       "    .dataframe tbody tr th:only-of-type {\n",
       "        vertical-align: middle;\n",
       "    }\n",
       "\n",
       "    .dataframe tbody tr th {\n",
       "        vertical-align: top;\n",
       "    }\n",
       "\n",
       "    .dataframe thead th {\n",
       "        text-align: right;\n",
       "    }\n",
       "</style>\n",
       "<table border=\"1\" class=\"dataframe\">\n",
       "  <thead>\n",
       "    <tr style=\"text-align: right;\">\n",
       "      <th></th>\n",
       "      <th>beats</th>\n",
       "      <th>best</th>\n",
       "      <th>both</th>\n",
       "      <th>brazil</th>\n",
       "      <th>is</th>\n",
       "      <th>love</th>\n",
       "      <th>nepal</th>\n",
       "      <th>sweden</th>\n",
       "    </tr>\n",
       "  </thead>\n",
       "  <tbody>\n",
       "    <tr>\n",
       "      <th>0</th>\n",
       "      <td>0.00000</td>\n",
       "      <td>0.00000</td>\n",
       "      <td>0.00000</td>\n",
       "      <td>0.894427</td>\n",
       "      <td>0.00000</td>\n",
       "      <td>0.447214</td>\n",
       "      <td>0.00000</td>\n",
       "      <td>0.00000</td>\n",
       "    </tr>\n",
       "    <tr>\n",
       "      <th>1</th>\n",
       "      <td>0.00000</td>\n",
       "      <td>0.57735</td>\n",
       "      <td>0.00000</td>\n",
       "      <td>0.000000</td>\n",
       "      <td>0.57735</td>\n",
       "      <td>0.000000</td>\n",
       "      <td>0.00000</td>\n",
       "      <td>0.57735</td>\n",
       "    </tr>\n",
       "    <tr>\n",
       "      <th>2</th>\n",
       "      <td>0.57735</td>\n",
       "      <td>0.00000</td>\n",
       "      <td>0.57735</td>\n",
       "      <td>0.000000</td>\n",
       "      <td>0.00000</td>\n",
       "      <td>0.000000</td>\n",
       "      <td>0.57735</td>\n",
       "      <td>0.00000</td>\n",
       "    </tr>\n",
       "  </tbody>\n",
       "</table>\n",
       "</div>"
      ],
      "text/plain": [
       "     beats     best     both    brazil       is      love    nepal   sweden\n",
       "0  0.00000  0.00000  0.00000  0.894427  0.00000  0.447214  0.00000  0.00000\n",
       "1  0.00000  0.57735  0.00000  0.000000  0.57735  0.000000  0.00000  0.57735\n",
       "2  0.57735  0.00000  0.57735  0.000000  0.00000  0.000000  0.57735  0.00000"
      ]
     },
     "execution_count": 103,
     "metadata": {},
     "output_type": "execute_result"
    }
   ],
   "source": [
    "df = pd.DataFrame(columns = tfidf.get_feature_names(), data = feature_matrix.toarray())\n",
    "df"
   ]
  },
  {
   "cell_type": "code",
   "execution_count": null,
   "id": "c53c2759",
   "metadata": {},
   "outputs": [],
   "source": []
  }
 ],
 "metadata": {
  "kernelspec": {
   "display_name": "Python 3 (ipykernel)",
   "language": "python",
   "name": "python3"
  },
  "language_info": {
   "codemirror_mode": {
    "name": "ipython",
    "version": 3
   },
   "file_extension": ".py",
   "mimetype": "text/x-python",
   "name": "python",
   "nbconvert_exporter": "python",
   "pygments_lexer": "ipython3",
   "version": "3.9.13"
  }
 },
 "nbformat": 4,
 "nbformat_minor": 5
}
